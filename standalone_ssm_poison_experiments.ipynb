{
 "cells": [
  {
   "cell_type": "markdown",
   "id": "bc60fb35-10ee-457e-9b2d-6e3d74b60f65",
   "metadata": {
    "id": "XxZkD73kaJCJ",
    "jp-MarkdownHeadingCollapsed": true
   },
   "source": [
    "# Imports"
   ]
  },
  {
   "cell_type": "code",
   "execution_count": 1,
   "id": "9fdf5557-297d-47a7-b101-1fbbba997106",
   "metadata": {
    "id": "CfJ3zwObZQ9Q",
    "scrolled": true
   },
   "outputs": [
    {
     "name": "stderr",
     "output_type": "stream",
     "text": [
      "2024-10-19 15:34:41.985826: I tensorflow/stream_executor/platform/default/dso_loader.cc:49] Successfully opened dynamic library libcudart.so.10.1\n",
      "2024-10-19 15:34:47.564204: I tensorflow/compiler/jit/xla_cpu_device.cc:41] Not creating XLA devices, tf_xla_enable_xla_devices not set\n",
      "2024-10-19 15:34:47.566058: I tensorflow/stream_executor/platform/default/dso_loader.cc:49] Successfully opened dynamic library libcuda.so.1\n",
      "2024-10-19 15:34:47.618658: I tensorflow/core/common_runtime/gpu/gpu_device.cc:1720] Found device 0 with properties: \n",
      "pciBusID: 0000:3d:00.0 name: NVIDIA GeForce RTX 2080 Ti computeCapability: 7.5\n",
      "coreClock: 1.545GHz coreCount: 68 deviceMemorySize: 10.75GiB deviceMemoryBandwidth: 573.69GiB/s\n",
      "2024-10-19 15:34:47.619308: I tensorflow/core/common_runtime/gpu/gpu_device.cc:1720] Found device 1 with properties: \n",
      "pciBusID: 0000:3e:00.0 name: NVIDIA GeForce RTX 2080 Ti computeCapability: 7.5\n",
      "coreClock: 1.545GHz coreCount: 68 deviceMemorySize: 10.75GiB deviceMemoryBandwidth: 573.69GiB/s\n",
      "2024-10-19 15:34:47.619950: I tensorflow/core/common_runtime/gpu/gpu_device.cc:1720] Found device 2 with properties: \n",
      "pciBusID: 0000:60:00.0 name: NVIDIA GeForce RTX 2080 Ti computeCapability: 7.5\n",
      "coreClock: 1.545GHz coreCount: 68 deviceMemorySize: 10.75GiB deviceMemoryBandwidth: 573.69GiB/s\n",
      "2024-10-19 15:34:47.620600: I tensorflow/core/common_runtime/gpu/gpu_device.cc:1720] Found device 3 with properties: \n",
      "pciBusID: 0000:61:00.0 name: NVIDIA GeForce RTX 2080 Ti computeCapability: 7.5\n",
      "coreClock: 1.545GHz coreCount: 68 deviceMemorySize: 10.75GiB deviceMemoryBandwidth: 573.69GiB/s\n",
      "2024-10-19 15:34:47.621252: I tensorflow/core/common_runtime/gpu/gpu_device.cc:1720] Found device 4 with properties: \n",
      "pciBusID: 0000:b1:00.0 name: NVIDIA GeForce RTX 2080 Ti computeCapability: 7.5\n",
      "coreClock: 1.545GHz coreCount: 68 deviceMemorySize: 10.75GiB deviceMemoryBandwidth: 573.69GiB/s\n",
      "2024-10-19 15:34:47.621858: I tensorflow/core/common_runtime/gpu/gpu_device.cc:1720] Found device 5 with properties: \n",
      "pciBusID: 0000:b2:00.0 name: NVIDIA GeForce RTX 2080 Ti computeCapability: 7.5\n",
      "coreClock: 1.545GHz coreCount: 68 deviceMemorySize: 10.75GiB deviceMemoryBandwidth: 573.69GiB/s\n",
      "2024-10-19 15:34:47.622461: I tensorflow/core/common_runtime/gpu/gpu_device.cc:1720] Found device 6 with properties: \n",
      "pciBusID: 0000:da:00.0 name: NVIDIA GeForce RTX 2080 Ti computeCapability: 7.5\n",
      "coreClock: 1.545GHz coreCount: 68 deviceMemorySize: 10.75GiB deviceMemoryBandwidth: 573.69GiB/s\n",
      "2024-10-19 15:34:47.623092: I tensorflow/core/common_runtime/gpu/gpu_device.cc:1720] Found device 7 with properties: \n",
      "pciBusID: 0000:db:00.0 name: NVIDIA GeForce RTX 2080 Ti computeCapability: 7.5\n",
      "coreClock: 1.545GHz coreCount: 68 deviceMemorySize: 10.75GiB deviceMemoryBandwidth: 573.69GiB/s\n",
      "2024-10-19 15:34:47.623122: I tensorflow/stream_executor/platform/default/dso_loader.cc:49] Successfully opened dynamic library libcudart.so.10.1\n",
      "2024-10-19 15:34:47.626672: I tensorflow/stream_executor/platform/default/dso_loader.cc:49] Successfully opened dynamic library libcublas.so.10\n",
      "2024-10-19 15:34:47.626736: I tensorflow/stream_executor/platform/default/dso_loader.cc:49] Successfully opened dynamic library libcublasLt.so.10\n",
      "2024-10-19 15:34:47.629317: I tensorflow/stream_executor/platform/default/dso_loader.cc:49] Successfully opened dynamic library libcufft.so.10\n",
      "2024-10-19 15:34:47.630794: I tensorflow/stream_executor/platform/default/dso_loader.cc:49] Successfully opened dynamic library libcurand.so.10\n",
      "2024-10-19 15:34:47.633654: I tensorflow/stream_executor/platform/default/dso_loader.cc:49] Successfully opened dynamic library libcusolver.so.10\n",
      "2024-10-19 15:34:47.636212: I tensorflow/stream_executor/platform/default/dso_loader.cc:49] Successfully opened dynamic library libcusparse.so.10\n",
      "2024-10-19 15:34:47.641613: I tensorflow/stream_executor/platform/default/dso_loader.cc:49] Successfully opened dynamic library libcudnn.so.7\n",
      "2024-10-19 15:34:47.650775: I tensorflow/core/common_runtime/gpu/gpu_device.cc:1862] Adding visible gpu devices: 0, 1, 2, 3, 4, 5, 6, 7\n"
     ]
    }
   ],
   "source": [
    "import numpy as np\n",
    "import tensorflow as tf\n",
    "from common.model import create_ssm, get_ssm_weights, set_ssm_weights\n",
    "from common.data import generate_inputs, create_one_hot_array\n",
    "from common.train import train\n",
    "\n",
    "np.set_printoptions(linewidth=200)\n",
    "physical_devices = tf.config.list_physical_devices('GPU')\n",
    "if len(physical_devices) > 0:\n",
    "    tf.config.set_visible_devices(physical_devices[0:1], 'GPU')"
   ]
  },
  {
   "cell_type": "markdown",
   "id": "057f872c-f675-4291-a7ce-8e5ad5b81149",
   "metadata": {
    "jp-MarkdownHeadingCollapsed": true,
    "scrolled": true
   },
   "source": [
    "# Global variables"
   ]
  },
  {
   "cell_type": "code",
   "execution_count": 2,
   "id": "91134923-8782-43e8-996c-1e2f295c8611",
   "metadata": {
    "scrolled": true
   },
   "outputs": [],
   "source": [
    "sd_baseline = 1\n",
    "sd_special = 1\n",
    "epochs = int(1e6)\n",
    "log_period = 100\n",
    "print_period = int(1e4)\n",
    "epochs_after_opt = 1500\n",
    "warm_init = 0.1\n",
    "exper_type = 'poison'\n",
    "adaptive = True"
   ]
  },
  {
   "cell_type": "markdown",
   "id": "8178bb4b-28db-4f0c-b22c-e34837e1c05a",
   "metadata": {
    "jp-MarkdownHeadingCollapsed": true
   },
   "source": [
    "# Length = 6, teacher state dim = 1, student state dim = 10"
   ]
  },
  {
   "cell_type": "markdown",
   "id": "49792340-2d9f-438a-a44d-866a7d22c834",
   "metadata": {
    "jp-MarkdownHeadingCollapsed": true
   },
   "source": [
    "## Shared setup"
   ]
  },
  {
   "cell_type": "code",
   "execution_count": 3,
   "id": "77824ff8-2a2d-44f9-8a2e-79ba452d00af",
   "metadata": {},
   "outputs": [],
   "source": [
    "seeds = [200+i for i in [0, 1, 4, 5]]\n",
    "teacher_state_dim = 1\n",
    "student_state_dim = 10\n",
    "sd_A = 0.001\n",
    "sd_B_C = 0.001\n",
    "length = 6\n",
    "ext_length = 40\n",
    "n_baseline = 8\n",
    "n_special = 10\n",
    "eps = 0.01\n",
    "diff = 0.05 / np.exp(5 * np.log10(1 / sd_A))"
   ]
  },
  {
   "cell_type": "code",
   "execution_count": 4,
   "id": "a1f4d942-d0c2-47ca-8f5b-6727ff50bf34",
   "metadata": {},
   "outputs": [
    {
     "name": "stderr",
     "output_type": "stream",
     "text": [
      "2024-10-19 15:34:47.676304: I tensorflow/core/platform/cpu_feature_guard.cc:142] This TensorFlow binary is optimized with oneAPI Deep Neural Network Library (oneDNN) to use the following CPU instructions in performance-critical operations:  SSE4.1 SSE4.2 AVX AVX2 AVX512F FMA\n",
      "To enable them in other operations, rebuild TensorFlow with the appropriate compiler flags.\n",
      "2024-10-19 15:34:47.678254: I tensorflow/compiler/jit/xla_gpu_device.cc:99] Not creating XLA devices, tf_xla_enable_xla_devices not set\n",
      "2024-10-19 15:34:47.679043: I tensorflow/core/common_runtime/gpu/gpu_device.cc:1720] Found device 0 with properties: \n",
      "pciBusID: 0000:3d:00.0 name: NVIDIA GeForce RTX 2080 Ti computeCapability: 7.5\n",
      "coreClock: 1.545GHz coreCount: 68 deviceMemorySize: 10.75GiB deviceMemoryBandwidth: 573.69GiB/s\n",
      "2024-10-19 15:34:47.679084: I tensorflow/stream_executor/platform/default/dso_loader.cc:49] Successfully opened dynamic library libcudart.so.10.1\n",
      "2024-10-19 15:34:47.679116: I tensorflow/stream_executor/platform/default/dso_loader.cc:49] Successfully opened dynamic library libcublas.so.10\n",
      "2024-10-19 15:34:47.679134: I tensorflow/stream_executor/platform/default/dso_loader.cc:49] Successfully opened dynamic library libcublasLt.so.10\n",
      "2024-10-19 15:34:47.679152: I tensorflow/stream_executor/platform/default/dso_loader.cc:49] Successfully opened dynamic library libcufft.so.10\n",
      "2024-10-19 15:34:47.679170: I tensorflow/stream_executor/platform/default/dso_loader.cc:49] Successfully opened dynamic library libcurand.so.10\n",
      "2024-10-19 15:34:47.679187: I tensorflow/stream_executor/platform/default/dso_loader.cc:49] Successfully opened dynamic library libcusolver.so.10\n",
      "2024-10-19 15:34:47.679205: I tensorflow/stream_executor/platform/default/dso_loader.cc:49] Successfully opened dynamic library libcusparse.so.10\n",
      "2024-10-19 15:34:47.679222: I tensorflow/stream_executor/platform/default/dso_loader.cc:49] Successfully opened dynamic library libcudnn.so.7\n",
      "2024-10-19 15:34:47.680453: I tensorflow/core/common_runtime/gpu/gpu_device.cc:1862] Adding visible gpu devices: 0\n",
      "2024-10-19 15:34:47.680500: I tensorflow/stream_executor/platform/default/dso_loader.cc:49] Successfully opened dynamic library libcudart.so.10.1\n",
      "2024-10-19 15:34:48.394177: I tensorflow/core/common_runtime/gpu/gpu_device.cc:1261] Device interconnect StreamExecutor with strength 1 edge matrix:\n",
      "2024-10-19 15:34:48.394247: I tensorflow/core/common_runtime/gpu/gpu_device.cc:1267]      0 \n",
      "2024-10-19 15:34:48.394260: I tensorflow/core/common_runtime/gpu/gpu_device.cc:1280] 0:   N \n",
      "2024-10-19 15:34:48.396275: I tensorflow/core/common_runtime/gpu/gpu_device.cc:1406] Created TensorFlow device (/job:localhost/replica:0/task:0/device:GPU:0 with 10065 MB memory) -> physical GPU (device: 0, name: NVIDIA GeForce RTX 2080 Ti, pci bus id: 0000:3d:00.0, compute capability: 7.5)\n"
     ]
    }
   ],
   "source": [
    "teacher, _ = create_ssm(teacher_state_dim, length, 0, 1, 1, 0)\n",
    "A = np.zeros((teacher_state_dim, teacher_state_dim))\n",
    "B = np.zeros((1, teacher_state_dim))\n",
    "C = np.zeros((teacher_state_dim, 1))\n",
    "A[0, 0] = 1\n",
    "B[0, 0] = 1\n",
    "C[0, 0] = 1\n",
    "set_ssm_weights(teacher, [A, B, C])\n",
    "ext_teacher, _ = create_ssm(teacher_state_dim, ext_length, 0, 1, 1, 0)\n",
    "set_ssm_weights(ext_teacher, get_ssm_weights(teacher))"
   ]
  },
  {
   "cell_type": "markdown",
   "id": "3cc099d2-9c2f-4311-aa7f-302e8a0237da",
   "metadata": {
    "jp-MarkdownHeadingCollapsed": true
   },
   "source": [
    "## 8 baseline inputs, 0 special inputs"
   ]
  },
  {
   "cell_type": "code",
   "execution_count": 5,
   "id": "8e7eac29-4069-443d-8c10-a1ab486982ea",
   "metadata": {},
   "outputs": [],
   "source": [
    "base_lr = 0.01\n",
    "baseline_input = np.zeros((n_baseline, length, 1))\n",
    "baseline_input[:, 0:2, :] = 1\n",
    "train_losses, ext_losses = [], []"
   ]
  },
  {
   "cell_type": "code",
   "execution_count": 6,
   "id": "49425aaf-c32a-4063-8374-c6b23d341463",
   "metadata": {},
   "outputs": [
    {
     "name": "stderr",
     "output_type": "stream",
     "text": [
      "2024-10-19 15:34:48.724170: I tensorflow/stream_executor/platform/default/dso_loader.cc:49] Successfully opened dynamic library libcublas.so.10\n",
      "2024-10-19 15:34:49.139310: I tensorflow/compiler/mlir/mlir_graph_optimization_pass.cc:116] None of the MLIR optimization passes are enabled (registered 2)\n",
      "2024-10-19 15:34:49.159975: I tensorflow/core/platform/profile_utils/cpu_utils.cc:112] CPU Frequency: 2200000000 Hz\n"
     ]
    },
    {
     "name": "stdout",
     "output_type": "stream",
     "text": [
      "-------------------------------------------------------\n",
      "-------------------------------------------------------\n",
      "Epoch: 0\n",
      "Train loss: 0.7412855625152588\n",
      "+------------------------------+\n",
      "|Reached sub-epsilon train loss|\n",
      "+------------------------------+\n",
      "-------------------------------------------------------\n",
      "-------------------------------------------------------\n",
      "Epoch: 0\n",
      "Train loss: 0.00987151823937893\n",
      "+-------------+\n",
      "|Final results|\n",
      "+-------------+\n",
      "Train loss: 6.257215318328235e-06\n",
      "Ext. loss: 0.1137007474899292\n",
      "------------------------------------------------------------------------------------------------------\n",
      "------------------------------------------------------------------------------------------------------\n",
      "-------------------------------------------------------\n",
      "-------------------------------------------------------\n",
      "Epoch: 0\n",
      "Train loss: 1.0354180335998535\n",
      "+------------------------------+\n",
      "|Reached sub-epsilon train loss|\n",
      "+------------------------------+\n",
      "-------------------------------------------------------\n",
      "-------------------------------------------------------\n",
      "Epoch: 0\n",
      "Train loss: 0.009904801845550537\n",
      "+-------------+\n",
      "|Final results|\n",
      "+-------------+\n",
      "Train loss: 6.532069528475404e-05\n",
      "Ext. loss: 0.487119197845459\n",
      "------------------------------------------------------------------------------------------------------\n",
      "------------------------------------------------------------------------------------------------------\n",
      "-------------------------------------------------------\n",
      "-------------------------------------------------------\n",
      "Epoch: 0\n",
      "Train loss: 1.0556265115737915\n",
      "+------------------------------+\n",
      "|Reached sub-epsilon train loss|\n",
      "+------------------------------+\n",
      "-------------------------------------------------------\n",
      "-------------------------------------------------------\n",
      "Epoch: 0\n",
      "Train loss: 0.009840773418545723\n",
      "+-------------+\n",
      "|Final results|\n",
      "+-------------+\n",
      "Train loss: 1.4607485354645178e-05\n",
      "Ext. loss: 0.0970526933670044\n",
      "------------------------------------------------------------------------------------------------------\n",
      "------------------------------------------------------------------------------------------------------\n",
      "-------------------------------------------------------\n",
      "-------------------------------------------------------\n",
      "Epoch: 0\n",
      "Train loss: 0.3690758943557739\n",
      "+------------------------------+\n",
      "|Reached sub-epsilon train loss|\n",
      "+------------------------------+\n",
      "-------------------------------------------------------\n",
      "-------------------------------------------------------\n",
      "Epoch: 0\n",
      "Train loss: 0.009854690171778202\n",
      "+-------------+\n",
      "|Final results|\n",
      "+-------------+\n",
      "Train loss: 7.478850534425874e-07\n",
      "Ext. loss: 0.07924675941467285\n",
      "------------------------------------------------------------------------------------------------------\n",
      "------------------------------------------------------------------------------------------------------\n",
      "-------------------------------------------------------------------------\n",
      "-------------------------------------------------------------------------\n",
      "Average train loss: 2.173331995436456e-05\n",
      "Average ext. loss: 0.19427984952926636\n"
     ]
    }
   ],
   "source": [
    "for seed in seeds:\n",
    "    train_inputs = generate_inputs(1, sd_baseline, sd_special, seed=seed, baseline_input=baseline_input)\n",
    "    train_outputs = teacher(train_inputs)\n",
    "    ext_inputs = create_one_hot_array(ext_length, 1)\n",
    "    ext_outputs = ext_teacher(ext_inputs)\n",
    "    train_loss, ext_loss = train(train_inputs, train_outputs, ext_inputs, ext_outputs, student_state_dim, seed, sd_A, \n",
    "                                 sd_B_C, base_lr, epochs, eps, diff, warm_init=warm_init, adaptive=adaptive, \n",
    "                                 log_period=log_period, print_period=print_period, epochs_after_opt=epochs_after_opt, \n",
    "                                 exper_type=exper_type)\n",
    "    train_losses.append(train_loss)\n",
    "    ext_losses.append(ext_loss)\n",
    "print(\"-------------------------------------------------------------------------\")\n",
    "print(\"-------------------------------------------------------------------------\")\n",
    "print(f'Average train loss: {np.mean(train_losses)}')\n",
    "print(f'Average ext. loss: {np.mean(ext_losses)}')"
   ]
  },
  {
   "cell_type": "markdown",
   "id": "3228c7e0-5e50-4a00-a1a4-98b2ceb90a65",
   "metadata": {
    "jp-MarkdownHeadingCollapsed": true
   },
   "source": [
    "## 8 baseline inputs, 10 special inputs"
   ]
  },
  {
   "cell_type": "code",
   "execution_count": 7,
   "id": "d144383e-8ad8-4905-89e7-e20ad6db7a9a",
   "metadata": {},
   "outputs": [],
   "source": [
    "base_lr = 0.01\n",
    "baseline_input = np.zeros((n_baseline, length, 1))\n",
    "baseline_input[:, 0:2, :] = 1\n",
    "special_input = np.zeros((n_special, length, 1))\n",
    "special_input[:, length-2:length-1, :] = 1\n",
    "train_losses, ext_losses = [], []"
   ]
  },
  {
   "cell_type": "code",
   "execution_count": 8,
   "id": "f04f1e40-ce72-43f4-9825-bc7735fba780",
   "metadata": {},
   "outputs": [
    {
     "name": "stdout",
     "output_type": "stream",
     "text": [
      "-------------------------------------------------------\n",
      "-------------------------------------------------------\n",
      "Epoch: 0\n",
      "Train loss: 1.0083403587341309\n",
      "+------------------------------+\n",
      "|Reached sub-epsilon train loss|\n",
      "+------------------------------+\n",
      "-------------------------------------------------------\n",
      "-------------------------------------------------------\n",
      "Epoch: 0\n",
      "Train loss: 0.009566765278577805\n",
      "+-------------+\n",
      "|Final results|\n",
      "+-------------+\n",
      "Train loss: 0.00043054751586169004\n",
      "Ext. loss: 5.749016284942627\n",
      "------------------------------------------------------------------------------------------------------\n",
      "------------------------------------------------------------------------------------------------------\n",
      "-------------------------------------------------------\n",
      "-------------------------------------------------------\n",
      "Epoch: 0\n",
      "Train loss: 1.4306741952896118\n",
      "+------------------------------+\n",
      "|Reached sub-epsilon train loss|\n",
      "+------------------------------+\n",
      "-------------------------------------------------------\n",
      "-------------------------------------------------------\n",
      "Epoch: 0\n",
      "Train loss: 0.009368404746055603\n",
      "+-------------+\n",
      "|Final results|\n",
      "+-------------+\n",
      "Train loss: 0.0004693437949754298\n",
      "Ext. loss: 28.944204330444336\n",
      "------------------------------------------------------------------------------------------------------\n",
      "------------------------------------------------------------------------------------------------------\n",
      "-------------------------------------------------------\n",
      "-------------------------------------------------------\n",
      "Epoch: 0\n",
      "Train loss: 0.772861897945404\n",
      "+------------------------------+\n",
      "|Reached sub-epsilon train loss|\n",
      "+------------------------------+\n",
      "-------------------------------------------------------\n",
      "-------------------------------------------------------\n",
      "Epoch: 0\n",
      "Train loss: 0.00978581327944994\n",
      "+-------------+\n",
      "|Final results|\n",
      "+-------------+\n",
      "Train loss: 0.0006783645367249846\n",
      "Ext. loss: 17.12087059020996\n",
      "------------------------------------------------------------------------------------------------------\n",
      "------------------------------------------------------------------------------------------------------\n",
      "-------------------------------------------------------\n",
      "-------------------------------------------------------\n",
      "Epoch: 0\n",
      "Train loss: 0.4141726493835449\n",
      "+------------------------------+\n",
      "|Reached sub-epsilon train loss|\n",
      "+------------------------------+\n",
      "-------------------------------------------------------\n",
      "-------------------------------------------------------\n",
      "Epoch: 0\n",
      "Train loss: 0.00978514552116394\n",
      "+-------------+\n",
      "|Final results|\n",
      "+-------------+\n",
      "Train loss: 0.0005653522093780339\n",
      "Ext. loss: 14.653727531433105\n",
      "------------------------------------------------------------------------------------------------------\n",
      "------------------------------------------------------------------------------------------------------\n",
      "-------------------------------------------------------------------------\n",
      "-------------------------------------------------------------------------\n",
      "Average train loss: 0.0005359019851312041\n",
      "Average ext. loss: 16.616954803466797\n"
     ]
    }
   ],
   "source": [
    "for seed in seeds:\n",
    "    train_inputs = generate_inputs(1, sd_baseline, sd_special, seed=seed, baseline_input=baseline_input, \n",
    "                                   special_input=special_input)\n",
    "    train_outputs = teacher(train_inputs)\n",
    "    ext_inputs = create_one_hot_array(ext_length, 1)\n",
    "    ext_outputs = ext_teacher(ext_inputs)\n",
    "    train_loss, ext_loss = train(train_inputs, train_outputs, ext_inputs, ext_outputs, student_state_dim, seed, sd_A, \n",
    "                                 sd_B_C, base_lr, epochs, eps, diff, warm_init=warm_init, adaptive=adaptive, \n",
    "                                 log_period=log_period, print_period=print_period, epochs_after_opt=epochs_after_opt, \n",
    "                                 exper_type=exper_type)\n",
    "    train_losses.append(train_loss)\n",
    "    ext_losses.append(ext_loss)\n",
    "print(\"-------------------------------------------------------------------------\")\n",
    "print(\"-------------------------------------------------------------------------\")\n",
    "print(f'Average train loss: {np.mean(train_losses)}')\n",
    "print(f'Average ext. loss: {np.mean(ext_losses)}')"
   ]
  },
  {
   "cell_type": "markdown",
   "id": "20c00941-0160-4b63-a445-fc87432d9ac7",
   "metadata": {
    "jp-MarkdownHeadingCollapsed": true
   },
   "source": [
    "# Length = 10, teacher state dim = 1, student state dim = 20"
   ]
  },
  {
   "cell_type": "markdown",
   "id": "0f7cf1a2-0504-4afb-9c2e-8eba1fffa235",
   "metadata": {
    "jp-MarkdownHeadingCollapsed": true
   },
   "source": [
    "## Shared setup"
   ]
  },
  {
   "cell_type": "code",
   "execution_count": 9,
   "id": "09b3fa5f-e657-49cf-a411-50f337c6fb34",
   "metadata": {},
   "outputs": [],
   "source": [
    "seeds = [1200+i for i in [0, 1, 3, 4]]\n",
    "teacher_state_dim = 1\n",
    "student_state_dim = 20\n",
    "sd_A = 0.01\n",
    "sd_B_C = 0.001\n",
    "length = 10\n",
    "ext_length = 40\n",
    "n_baseline = 8\n",
    "n_special = 10\n",
    "eps = 0.01\n",
    "diff = 0.05 / np.exp(3 * np.log10(1 / sd_A))"
   ]
  },
  {
   "cell_type": "code",
   "execution_count": 10,
   "id": "4b2c9cc3-f737-4e17-8d7b-564eb9e6aba2",
   "metadata": {},
   "outputs": [],
   "source": [
    "teacher, _ = create_ssm(teacher_state_dim, length, 0, 1, 1, 0)\n",
    "A = np.zeros((teacher_state_dim, teacher_state_dim))\n",
    "B = np.zeros((1, teacher_state_dim))\n",
    "C = np.zeros((teacher_state_dim, 1))\n",
    "A[0, 0] = 1\n",
    "B[0, 0] = 1\n",
    "C[0, 0] = 1\n",
    "set_ssm_weights(teacher, [A, B, C])\n",
    "ext_teacher, _ = create_ssm(teacher_state_dim, ext_length, 0, 1, 1, 0)\n",
    "set_ssm_weights(ext_teacher, get_ssm_weights(teacher))"
   ]
  },
  {
   "cell_type": "markdown",
   "id": "722e2c02-1574-4a3e-8819-efade3323653",
   "metadata": {
    "jp-MarkdownHeadingCollapsed": true
   },
   "source": [
    "## 8 baseline inputs, 0 special inputs"
   ]
  },
  {
   "cell_type": "code",
   "execution_count": 11,
   "id": "4cb29385-c785-4830-8952-c55d59fe8de3",
   "metadata": {},
   "outputs": [],
   "source": [
    "base_lr = 0.001\n",
    "baseline_input = np.zeros((n_baseline, length, 1))\n",
    "baseline_input[:, 0:length-3, :] = 1\n",
    "train_losses, ext_losses = [], []"
   ]
  },
  {
   "cell_type": "code",
   "execution_count": 12,
   "id": "f67fa0c2-922a-475f-899c-7c5af7873549",
   "metadata": {},
   "outputs": [
    {
     "name": "stdout",
     "output_type": "stream",
     "text": [
      "-------------------------------------------------------\n",
      "-------------------------------------------------------\n",
      "Epoch: 0\n",
      "Train loss: 7.95379638671875\n",
      "-------------------------------------------------------\n",
      "-------------------------------------------------------\n",
      "Epoch: 10000\n",
      "Train loss: 7.953590393066406\n",
      "+------------------------------+\n",
      "|Reached sub-epsilon train loss|\n",
      "+------------------------------+\n",
      "-------------------------------------------------------\n",
      "-------------------------------------------------------\n",
      "Epoch: 0\n",
      "Train loss: 0.009907917119562626\n",
      "+-------------+\n",
      "|Final results|\n",
      "+-------------+\n",
      "Train loss: 9.560439139022492e-06\n",
      "Ext. loss: 0.12655746936798096\n",
      "------------------------------------------------------------------------------------------------------\n",
      "------------------------------------------------------------------------------------------------------\n",
      "-------------------------------------------------------\n",
      "-------------------------------------------------------\n",
      "Epoch: 0\n",
      "Train loss: 14.11538314819336\n",
      "-------------------------------------------------------\n",
      "-------------------------------------------------------\n",
      "Epoch: 10000\n",
      "Train loss: 14.105683326721191\n",
      "+------------------------------+\n",
      "|Reached sub-epsilon train loss|\n",
      "+------------------------------+\n",
      "-------------------------------------------------------\n",
      "-------------------------------------------------------\n",
      "Epoch: 0\n",
      "Train loss: 0.00986531376838684\n",
      "+-------------+\n",
      "|Final results|\n",
      "+-------------+\n",
      "Train loss: 2.4261722501250915e-05\n",
      "Ext. loss: 0.1695653200149536\n",
      "------------------------------------------------------------------------------------------------------\n",
      "------------------------------------------------------------------------------------------------------\n",
      "-------------------------------------------------------\n",
      "-------------------------------------------------------\n",
      "Epoch: 0\n",
      "Train loss: 13.228339195251465\n",
      "-------------------------------------------------------\n",
      "-------------------------------------------------------\n",
      "Epoch: 10000\n",
      "Train loss: 13.226943969726562\n",
      "+------------------------------+\n",
      "|Reached sub-epsilon train loss|\n",
      "+------------------------------+\n",
      "-------------------------------------------------------\n",
      "-------------------------------------------------------\n",
      "Epoch: 0\n",
      "Train loss: 0.009916841983795166\n",
      "+-------------+\n",
      "|Final results|\n",
      "+-------------+\n",
      "Train loss: 6.053519973647781e-05\n",
      "Ext. loss: 0.12485039234161377\n",
      "------------------------------------------------------------------------------------------------------\n",
      "------------------------------------------------------------------------------------------------------\n",
      "-------------------------------------------------------\n",
      "-------------------------------------------------------\n",
      "Epoch: 0\n",
      "Train loss: 7.405494213104248\n",
      "-------------------------------------------------------\n",
      "-------------------------------------------------------\n",
      "Epoch: 10000\n",
      "Train loss: 7.405481815338135\n",
      "-------------------------------------------------------\n",
      "-------------------------------------------------------\n",
      "Epoch: 20000\n",
      "Train loss: 7.405344009399414\n",
      "+------------------------------+\n",
      "|Reached sub-epsilon train loss|\n",
      "+------------------------------+\n",
      "-------------------------------------------------------\n",
      "-------------------------------------------------------\n",
      "Epoch: 0\n",
      "Train loss: 0.009840061888098717\n",
      "+-------------+\n",
      "|Final results|\n",
      "+-------------+\n",
      "Train loss: 8.277037522930186e-06\n",
      "Ext. loss: 0.06484830379486084\n",
      "------------------------------------------------------------------------------------------------------\n",
      "------------------------------------------------------------------------------------------------------\n",
      "-------------------------------------------------------------------------\n",
      "-------------------------------------------------------------------------\n",
      "Average train loss: 2.5658599042799324e-05\n",
      "Average ext. loss: 0.1214553713798523\n"
     ]
    }
   ],
   "source": [
    "for seed in seeds:\n",
    "    train_inputs = generate_inputs(1, sd_baseline, sd_special, seed=seed, baseline_input=baseline_input)\n",
    "    train_outputs = teacher(train_inputs)\n",
    "    ext_inputs = create_one_hot_array(ext_length, 1)\n",
    "    ext_outputs = ext_teacher(ext_inputs)\n",
    "    train_loss, ext_loss = train(train_inputs, train_outputs, ext_inputs, ext_outputs, student_state_dim, seed, sd_A, \n",
    "                                 sd_B_C, base_lr, epochs, eps, diff, warm_init=warm_init, adaptive=adaptive, \n",
    "                                 log_period=log_period, print_period=print_period, epochs_after_opt=epochs_after_opt, \n",
    "                                 exper_type=exper_type)\n",
    "    train_losses.append(train_loss)\n",
    "    ext_losses.append(ext_loss)\n",
    "print(\"-------------------------------------------------------------------------\")\n",
    "print(\"-------------------------------------------------------------------------\")\n",
    "print(f'Average train loss: {np.mean(train_losses)}')\n",
    "print(f'Average ext. loss: {np.mean(ext_losses)}')"
   ]
  },
  {
   "cell_type": "markdown",
   "id": "b4622ae7-7235-47fc-93e1-05c8659478d6",
   "metadata": {
    "jp-MarkdownHeadingCollapsed": true
   },
   "source": [
    "## 8 baseline inputs, 10 special inputs"
   ]
  },
  {
   "cell_type": "code",
   "execution_count": 13,
   "id": "52be82bf-8727-47ee-90e3-799b620dae06",
   "metadata": {},
   "outputs": [],
   "source": [
    "base_lr = 0.001\n",
    "baseline_input = np.zeros((n_baseline, length, 1))\n",
    "baseline_input[:, 0:length-3, :] = 1\n",
    "special_input = np.zeros((n_special, length, 1))\n",
    "special_input[:, length-2:length-1, :] = 1\n",
    "train_losses, ext_losses = [], []"
   ]
  },
  {
   "cell_type": "code",
   "execution_count": 14,
   "id": "f03c342a-710b-4d25-99c3-48b7799e59a3",
   "metadata": {},
   "outputs": [
    {
     "name": "stdout",
     "output_type": "stream",
     "text": [
      "-------------------------------------------------------\n",
      "-------------------------------------------------------\n",
      "Epoch: 0\n",
      "Train loss: 4.130544662475586\n",
      "-------------------------------------------------------\n",
      "-------------------------------------------------------\n",
      "Epoch: 10000\n",
      "Train loss: 0.01616278849542141\n",
      "+------------------------------+\n",
      "|Reached sub-epsilon train loss|\n",
      "+------------------------------+\n",
      "-------------------------------------------------------\n",
      "-------------------------------------------------------\n",
      "Epoch: 0\n",
      "Train loss: 0.0099932961165905\n",
      "+-------------+\n",
      "|Final results|\n",
      "+-------------+\n",
      "Train loss: 0.00627909554168582\n",
      "Ext. loss: 0.9167795181274414\n",
      "------------------------------------------------------------------------------------------------------\n",
      "------------------------------------------------------------------------------------------------------\n",
      "-------------------------------------------------------\n",
      "-------------------------------------------------------\n",
      "Epoch: 0\n",
      "Train loss: 6.589540481567383\n",
      "-------------------------------------------------------\n",
      "-------------------------------------------------------\n",
      "Epoch: 10000\n",
      "Train loss: 0.024096252396702766\n",
      "+------------------------------+\n",
      "|Reached sub-epsilon train loss|\n",
      "+------------------------------+\n",
      "-------------------------------------------------------\n",
      "-------------------------------------------------------\n",
      "Epoch: 0\n",
      "Train loss: 0.00999416783452034\n",
      "+-------------+\n",
      "|Final results|\n",
      "+-------------+\n",
      "Train loss: 0.005600936710834503\n",
      "Ext. loss: 1.1323683261871338\n",
      "------------------------------------------------------------------------------------------------------\n",
      "------------------------------------------------------------------------------------------------------\n",
      "-------------------------------------------------------\n",
      "-------------------------------------------------------\n",
      "Epoch: 0\n",
      "Train loss: 6.4822306632995605\n",
      "-------------------------------------------------------\n",
      "-------------------------------------------------------\n",
      "Epoch: 10000\n",
      "Train loss: 0.015501262620091438\n",
      "+------------------------------+\n",
      "|Reached sub-epsilon train loss|\n",
      "+------------------------------+\n",
      "-------------------------------------------------------\n",
      "-------------------------------------------------------\n",
      "Epoch: 0\n",
      "Train loss: 0.009995903819799423\n",
      "+-------------+\n",
      "|Final results|\n",
      "+-------------+\n",
      "Train loss: 0.006275274325162172\n",
      "Ext. loss: 2.1034953594207764\n",
      "------------------------------------------------------------------------------------------------------\n",
      "------------------------------------------------------------------------------------------------------\n",
      "-------------------------------------------------------\n",
      "-------------------------------------------------------\n",
      "Epoch: 0\n",
      "Train loss: 3.7223129272460938\n",
      "-------------------------------------------------------\n",
      "-------------------------------------------------------\n",
      "Epoch: 10000\n",
      "Train loss: 0.02314385026693344\n",
      "+------------------------------+\n",
      "|Reached sub-epsilon train loss|\n",
      "+------------------------------+\n",
      "-------------------------------------------------------\n",
      "-------------------------------------------------------\n",
      "Epoch: 0\n",
      "Train loss: 0.00999382697045803\n",
      "+-------------+\n",
      "|Final results|\n",
      "+-------------+\n",
      "Train loss: 0.006329474970698357\n",
      "Ext. loss: 0.6432667970657349\n",
      "------------------------------------------------------------------------------------------------------\n",
      "------------------------------------------------------------------------------------------------------\n",
      "-------------------------------------------------------------------------\n",
      "-------------------------------------------------------------------------\n",
      "Average train loss: 0.006121195387095213\n",
      "Average ext. loss: 1.1989774703979492\n"
     ]
    }
   ],
   "source": [
    "for seed in seeds:\n",
    "    train_inputs = generate_inputs(1, sd_baseline, sd_special, seed=seed, baseline_input=baseline_input, \n",
    "                                   special_input=special_input)\n",
    "    train_outputs = teacher(train_inputs)\n",
    "    ext_inputs = create_one_hot_array(ext_length, 1)\n",
    "    ext_outputs = ext_teacher(ext_inputs)\n",
    "    train_loss, ext_loss = train(train_inputs, train_outputs, ext_inputs, ext_outputs, student_state_dim, seed, sd_A, \n",
    "                                 sd_B_C, base_lr, epochs, eps, diff, warm_init=warm_init, adaptive=adaptive, \n",
    "                                 log_period=log_period, print_period=print_period, epochs_after_opt=epochs_after_opt, \n",
    "                                 exper_type=exper_type)\n",
    "    train_losses.append(train_loss)\n",
    "    ext_losses.append(ext_loss)\n",
    "print(\"-------------------------------------------------------------------------\")\n",
    "print(\"-------------------------------------------------------------------------\")\n",
    "print(f'Average train loss: {np.mean(train_losses)}')\n",
    "print(f'Average ext. loss: {np.mean(ext_losses)}')"
   ]
  },
  {
   "cell_type": "code",
   "execution_count": null,
   "id": "4053baf6-a554-41b4-b119-2331d0465b59",
   "metadata": {},
   "outputs": [],
   "source": []
  }
 ],
 "metadata": {
  "kernelspec": {
   "display_name": "Python 3 (ipykernel)",
   "language": "python",
   "name": "python3"
  },
  "language_info": {
   "codemirror_mode": {
    "name": "ipython",
    "version": 3
   },
   "file_extension": ".py",
   "mimetype": "text/x-python",
   "name": "python",
   "nbconvert_exporter": "python",
   "pygments_lexer": "ipython3",
   "version": "3.9.18"
  }
 },
 "nbformat": 4,
 "nbformat_minor": 5
}
