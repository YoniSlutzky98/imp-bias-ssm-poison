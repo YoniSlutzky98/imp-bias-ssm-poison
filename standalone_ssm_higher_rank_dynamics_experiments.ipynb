{
 "cells": [
  {
   "cell_type": "markdown",
   "id": "bc60fb35-10ee-457e-9b2d-6e3d74b60f65",
   "metadata": {
    "id": "XxZkD73kaJCJ",
    "jp-MarkdownHeadingCollapsed": true
   },
   "source": [
    "# Imports"
   ]
  },
  {
   "cell_type": "code",
   "execution_count": null,
   "id": "9fdf5557-297d-47a7-b101-1fbbba997106",
   "metadata": {
    "id": "CfJ3zwObZQ9Q",
    "scrolled": true
   },
   "outputs": [],
   "source": [
    "import numpy as np\n",
    "import tensorflow as tf\n",
    "from common.model import create_ssm, get_ssm_weights, set_ssm_weights\n",
    "from common.data import generate_inputs, create_one_hot_array\n",
    "from common.train import train\n",
    "\n",
    "np.set_printoptions(linewidth=200)\n",
    "physical_devices = tf.config.list_physical_devices('GPU')\n",
    "if len(physical_devices) > 0:\n",
    "    tf.config.set_visible_devices(physical_devices[0:1], 'GPU')"
   ]
  },
  {
   "cell_type": "markdown",
   "id": "057f872c-f675-4291-a7ce-8e5ad5b81149",
   "metadata": {
    "jp-MarkdownHeadingCollapsed": true,
    "scrolled": true
   },
   "source": [
    "# Global variables"
   ]
  },
  {
   "cell_type": "code",
   "execution_count": null,
   "id": "91134923-8782-43e8-996c-1e2f295c8611",
   "metadata": {
    "scrolled": true
   },
   "outputs": [],
   "source": [
    "sd_baseline = 1\n",
    "sd_special = 1\n",
    "epochs = int(1e6)\n",
    "log_period = 100\n",
    "print_period = int(1e4)\n",
    "n_evals = 7\n",
    "epochs_after_opt = 1500"
   ]
  },
  {
   "cell_type": "markdown",
   "id": "8178bb4b-28db-4f0c-b22c-e34837e1c05a",
   "metadata": {
    "jp-MarkdownHeadingCollapsed": true
   },
   "source": [
    "# Length = 6, teacher state dim = 2, student state dim = 10"
   ]
  },
  {
   "cell_type": "markdown",
   "id": "49792340-2d9f-438a-a44d-866a7d22c834",
   "metadata": {
    "jp-MarkdownHeadingCollapsed": true
   },
   "source": [
    "## Shared setup"
   ]
  },
  {
   "cell_type": "code",
   "execution_count": null,
   "id": "77824ff8-2a2d-44f9-8a2e-79ba452d00af",
   "metadata": {},
   "outputs": [],
   "source": [
    "seed = 302\n",
    "teacher_state_dim = 2\n",
    "student_state_dim = 10\n",
    "sd_A = 0.01\n",
    "sd_B_C = 0.01\n",
    "length = 6\n",
    "ext_length = 40\n",
    "n_baseline = 8\n",
    "n_special = 10\n",
    "eps = 0.01\n",
    "diff = 0.05 / np.exp(2 * np.log10(1 / sd_A))"
   ]
  },
  {
   "cell_type": "code",
   "execution_count": null,
   "id": "a1f4d942-d0c2-47ca-8f5b-6727ff50bf34",
   "metadata": {},
   "outputs": [],
   "source": [
    "teacher, _ = create_ssm(teacher_state_dim, length, seed, 1, 1, 0)\n",
    "A = np.zeros((teacher_state_dim, teacher_state_dim))\n",
    "B = np.zeros((1, teacher_state_dim))\n",
    "C = np.zeros((teacher_state_dim, 1))\n",
    "A[0, 0] = 0.99\n",
    "A[1, 1] = 0.8\n",
    "B[0, 0] = 1\n",
    "B[0, 1] = 1\n",
    "C[0, 0] = 1\n",
    "C[1, 0] = 1\n",
    "set_ssm_weights(teacher, [A, B, C])\n",
    "ext_teacher, _ = create_ssm(teacher_state_dim, ext_length, seed, 1, 1, 0)\n",
    "set_ssm_weights(ext_teacher, get_ssm_weights(teacher))"
   ]
  },
  {
   "cell_type": "markdown",
   "id": "3cc099d2-9c2f-4311-aa7f-302e8a0237da",
   "metadata": {
    "jp-MarkdownHeadingCollapsed": true
   },
   "source": [
    "## 8 baseline inputs, 0 special inputs"
   ]
  },
  {
   "cell_type": "code",
   "execution_count": null,
   "id": "8e7eac29-4069-443d-8c10-a1ab486982ea",
   "metadata": {},
   "outputs": [],
   "source": [
    "base_lr = 0.01\n",
    "baseline_input = np.zeros((n_baseline, length, 1))\n",
    "baseline_input[:, 0:2, :] = 1\n",
    "title = 'SSM,\\nwithout special sequences'"
   ]
  },
  {
   "cell_type": "code",
   "execution_count": null,
   "id": "49425aaf-c32a-4063-8374-c6b23d341463",
   "metadata": {},
   "outputs": [],
   "source": [
    "train_inputs = generate_inputs(1, sd_baseline, sd_special, seed=seed, baseline_input=baseline_input)\n",
    "train_outputs = teacher(train_inputs)\n",
    "ext_inputs = create_one_hot_array(ext_length, 1)\n",
    "ext_outputs = ext_teacher(ext_inputs)"
   ]
  },
  {
   "cell_type": "code",
   "execution_count": null,
   "id": "a00b28d2-406e-46c8-94e9-c5acc220ec4c",
   "metadata": {},
   "outputs": [],
   "source": [
    "train(train_inputs, train_outputs, ext_inputs, ext_outputs, student_state_dim, seed, sd_A, sd_B_C, base_lr, epochs, \n",
    "      eps, diff, adaptive=True, log_period=log_period, print_period=print_period, n_evals=n_evals, \n",
    "      epochs_after_opt=epochs_after_opt, exper_type='dynamics', fix_B_C=True, title=title)"
   ]
  },
  {
   "cell_type": "markdown",
   "id": "3228c7e0-5e50-4a00-a1a4-98b2ceb90a65",
   "metadata": {
    "jp-MarkdownHeadingCollapsed": true
   },
   "source": [
    "## 8 baseline inputs, 10 special inputs"
   ]
  },
  {
   "cell_type": "code",
   "execution_count": null,
   "id": "d144383e-8ad8-4905-89e7-e20ad6db7a9a",
   "metadata": {},
   "outputs": [],
   "source": [
    "base_lr = 0.001\n",
    "baseline_input = np.zeros((n_baseline, length, 1))\n",
    "baseline_input[:, 0:2, :] = 1\n",
    "special_input = np.zeros((n_special, length, 1))\n",
    "special_input[:, length-2:length-1, :] = 1\n",
    "title = 'SSM,\\nwith special sequences'"
   ]
  },
  {
   "cell_type": "code",
   "execution_count": null,
   "id": "81e429b9-a42a-4fa7-b01b-2f5ae15d317a",
   "metadata": {},
   "outputs": [],
   "source": [
    "train_inputs = generate_inputs(1, sd_baseline, sd_special, seed=seed, baseline_input=baseline_input, \n",
    "                               special_input=special_input)\n",
    "train_outputs = teacher(train_inputs)\n",
    "ext_inputs = create_one_hot_array(ext_length, 1)\n",
    "ext_outputs = ext_teacher(ext_inputs)"
   ]
  },
  {
   "cell_type": "code",
   "execution_count": null,
   "id": "f04f1e40-ce72-43f4-9825-bc7735fba780",
   "metadata": {},
   "outputs": [],
   "source": [
    "train(train_inputs, train_outputs, ext_inputs, ext_outputs, student_state_dim, seed, sd_A, sd_B_C, base_lr, epochs, \n",
    "      eps, diff, adaptive=True, log_period=log_period, print_period=print_period, n_evals=n_evals, \n",
    "      epochs_after_opt=epochs_after_opt, exper_type='dynamics', fix_B_C=True, title=title)"
   ]
  },
  {
   "cell_type": "markdown",
   "id": "20c00941-0160-4b63-a445-fc87432d9ac7",
   "metadata": {
    "jp-MarkdownHeadingCollapsed": true
   },
   "source": [
    "# Length = 10, teacher state dim = 2, student state dim = 20"
   ]
  },
  {
   "cell_type": "markdown",
   "id": "0f7cf1a2-0504-4afb-9c2e-8eba1fffa235",
   "metadata": {
    "jp-MarkdownHeadingCollapsed": true
   },
   "source": [
    "## Shared setup"
   ]
  },
  {
   "cell_type": "code",
   "execution_count": null,
   "id": "09b3fa5f-e657-49cf-a411-50f337c6fb34",
   "metadata": {},
   "outputs": [],
   "source": [
    "seed = 1202\n",
    "teacher_state_dim = 2\n",
    "student_state_dim = 20\n",
    "sd_A = 0.01\n",
    "sd_B_C = 0.001\n",
    "length = 10\n",
    "ext_length = 40\n",
    "n_baseline = 8\n",
    "n_special = 10\n",
    "eps = 0.01\n",
    "diff = 0.05 / np.exp(3 * np.log10(1 / sd_A))"
   ]
  },
  {
   "cell_type": "code",
   "execution_count": null,
   "id": "4b2c9cc3-f737-4e17-8d7b-564eb9e6aba2",
   "metadata": {},
   "outputs": [],
   "source": [
    "teacher, _ = create_ssm(teacher_state_dim, length, seed, 1, 1, 0)\n",
    "A = np.zeros((teacher_state_dim, teacher_state_dim))\n",
    "B = np.zeros((1, teacher_state_dim))\n",
    "C = np.zeros((teacher_state_dim, 1))\n",
    "A[0, 0] = 0.99\n",
    "A[1, 1] = 0.8\n",
    "B[0, 0] = 1\n",
    "B[0, 1] = 1\n",
    "C[0, 0] = 1\n",
    "C[1, 0] = 1\n",
    "set_ssm_weights(teacher, [A, B, C])\n",
    "ext_teacher, _ = create_ssm(teacher_state_dim, ext_length, seed, 1, 1, 0)\n",
    "set_ssm_weights(ext_teacher, get_ssm_weights(teacher))"
   ]
  },
  {
   "cell_type": "markdown",
   "id": "722e2c02-1574-4a3e-8819-efade3323653",
   "metadata": {
    "jp-MarkdownHeadingCollapsed": true
   },
   "source": [
    "## 8 baseline inputs, 0 special inputs"
   ]
  },
  {
   "cell_type": "code",
   "execution_count": null,
   "id": "4cb29385-c785-4830-8952-c55d59fe8de3",
   "metadata": {},
   "outputs": [],
   "source": [
    "base_lr = 0.001\n",
    "baseline_input = np.zeros((n_baseline, length, 1))\n",
    "baseline_input[:, 0:length-3, :] = 1\n",
    "title = 'SSM,\\nwithout special sequences'"
   ]
  },
  {
   "cell_type": "code",
   "execution_count": null,
   "id": "f67fa0c2-922a-475f-899c-7c5af7873549",
   "metadata": {},
   "outputs": [],
   "source": [
    "train_inputs = generate_inputs(1, sd_baseline, sd_special, seed=seed, baseline_input=baseline_input)\n",
    "train_outputs = teacher(train_inputs)\n",
    "ext_inputs = create_one_hot_array(ext_length, 1)\n",
    "ext_outputs = ext_teacher(ext_inputs)"
   ]
  },
  {
   "cell_type": "code",
   "execution_count": null,
   "id": "5a6eff1d-0b5e-4bb1-b319-6e169db857ae",
   "metadata": {},
   "outputs": [],
   "source": [
    "train(train_inputs, train_outputs, ext_inputs, ext_outputs, student_state_dim, seed, sd_A, sd_B_C, base_lr, epochs, \n",
    "      eps, diff, adaptive=True, log_period=log_period, print_period=print_period, n_evals=n_evals, \n",
    "      epochs_after_opt=epochs_after_opt, exper_type='dynamics', fix_B_C=True, title=title)"
   ]
  },
  {
   "cell_type": "markdown",
   "id": "b4622ae7-7235-47fc-93e1-05c8659478d6",
   "metadata": {
    "jp-MarkdownHeadingCollapsed": true
   },
   "source": [
    "## 8 baseline inputs, 10 special inputs"
   ]
  },
  {
   "cell_type": "code",
   "execution_count": null,
   "id": "52be82bf-8727-47ee-90e3-799b620dae06",
   "metadata": {},
   "outputs": [],
   "source": [
    "base_lr = 0.001\n",
    "baseline_input = np.zeros((n_baseline, length, 1))\n",
    "baseline_input[:, 0:length-3, :] = 1\n",
    "special_input = np.zeros((n_special, length, 1))\n",
    "special_input[:, length-2:length-1, :] = 1\n",
    "title = 'SSM,\\nwith special sequences'"
   ]
  },
  {
   "cell_type": "code",
   "execution_count": null,
   "id": "f03c342a-710b-4d25-99c3-48b7799e59a3",
   "metadata": {},
   "outputs": [],
   "source": [
    "train_inputs = generate_inputs(1, sd_baseline, sd_special, seed=seed, baseline_input=baseline_input, \n",
    "                               special_input=special_input)\n",
    "train_outputs = teacher(train_inputs)\n",
    "ext_inputs = create_one_hot_array(ext_length, 1)\n",
    "ext_outputs = ext_teacher(ext_inputs)"
   ]
  },
  {
   "cell_type": "code",
   "execution_count": null,
   "id": "167a7c97-2b1e-4f51-adce-2eeb1caa2f06",
   "metadata": {},
   "outputs": [],
   "source": [
    "train(train_inputs, train_outputs, ext_inputs, ext_outputs, student_state_dim, seed, sd_A, sd_B_C, base_lr, epochs, \n",
    "      eps, diff, adaptive=True, log_period=log_period, print_period=print_period, n_evals=n_evals, \n",
    "      epochs_after_opt=epochs_after_opt, exper_type='dynamics', fix_B_C=True, title=title)"
   ]
  },
  {
   "cell_type": "code",
   "execution_count": null,
   "id": "53d4b0a9-8823-49de-a2dc-075cd17ea338",
   "metadata": {},
   "outputs": [],
   "source": []
  }
 ],
 "metadata": {
  "kernelspec": {
   "display_name": "Python 3 (ipykernel)",
   "language": "python",
   "name": "python3"
  },
  "language_info": {
   "codemirror_mode": {
    "name": "ipython",
    "version": 3
   },
   "file_extension": ".py",
   "mimetype": "text/x-python",
   "name": "python",
   "nbconvert_exporter": "python",
   "pygments_lexer": "ipython3",
   "version": "3.9.18"
  }
 },
 "nbformat": 4,
 "nbformat_minor": 5
}
