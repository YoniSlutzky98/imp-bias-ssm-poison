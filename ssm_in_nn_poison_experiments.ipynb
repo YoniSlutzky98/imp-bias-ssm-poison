{
 "cells": [
  {
   "cell_type": "markdown",
   "id": "bc60fb35-10ee-457e-9b2d-6e3d74b60f65",
   "metadata": {
    "id": "XxZkD73kaJCJ",
    "jp-MarkdownHeadingCollapsed": true
   },
   "source": [
    "# Imports"
   ]
  },
  {
   "cell_type": "code",
   "execution_count": null,
   "id": "9fdf5557-297d-47a7-b101-1fbbba997106",
   "metadata": {
    "id": "CfJ3zwObZQ9Q",
    "scrolled": true
   },
   "outputs": [],
   "source": [
    "import numpy as np\n",
    "import tensorflow as tf\n",
    "from common.model import create_ssm, get_ssm_weights, set_ssm_weights\n",
    "from common.data import generate_inputs, create_one_hot_array\n",
    "from common.train import train\n",
    "\n",
    "np.set_printoptions(linewidth=200)\n",
    "physical_devices = tf.config.list_physical_devices('GPU')\n",
    "if len(physical_devices) > 0:\n",
    "    tf.config.set_visible_devices(physical_devices[0:1], 'GPU')"
   ]
  },
  {
   "cell_type": "markdown",
   "id": "057f872c-f675-4291-a7ce-8e5ad5b81149",
   "metadata": {
    "jp-MarkdownHeadingCollapsed": true,
    "scrolled": true
   },
   "source": [
    "# Global variables"
   ]
  },
  {
   "cell_type": "code",
   "execution_count": null,
   "id": "91134923-8782-43e8-996c-1e2f295c8611",
   "metadata": {
    "scrolled": true
   },
   "outputs": [],
   "source": [
    "sd_baseline = 1\n",
    "sd_special = 1\n",
    "sd_test = 1\n",
    "epochs = int(1e6)\n",
    "log_period = 100\n",
    "print_period = int(1e4)\n",
    "n_evals = 7\n",
    "epochs_after_opt = 5000\n",
    "warm_init = 0.001\n",
    "exper_type = 'poison'\n",
    "adaptive = False"
   ]
  },
  {
   "cell_type": "markdown",
   "id": "8178bb4b-28db-4f0c-b22c-e34837e1c05a",
   "metadata": {
    "jp-MarkdownHeadingCollapsed": true
   },
   "source": [
    "# Length = 6, teacher state dim = 1, student state dim = 10"
   ]
  },
  {
   "cell_type": "markdown",
   "id": "49792340-2d9f-438a-a44d-866a7d22c834",
   "metadata": {
    "jp-MarkdownHeadingCollapsed": true
   },
   "source": [
    "## Shared setup"
   ]
  },
  {
   "cell_type": "code",
   "execution_count": null,
   "id": "77824ff8-2a2d-44f9-8a2e-79ba452d00af",
   "metadata": {},
   "outputs": [],
   "source": [
    "seeds = [4540+i for i in [0, 1, 3, 5]]\n",
    "teacher_state_dim = 1\n",
    "teacher_mlp_dim = 15\n",
    "teacher_depth = 2\n",
    "student_state_dim = 10\n",
    "student_mlp_dim = 15\n",
    "student_depth = 2\n",
    "sd_A = 0.01\n",
    "sd_B_C = 0.01\n",
    "sd_D = 0.03\n",
    "length = 6\n",
    "ext_length = 40\n",
    "n_baseline = 20\n",
    "n_special = 20\n",
    "n_test = 2000\n",
    "eps = 0.01\n",
    "diff = 0.05 / np.exp(0.5 * np.log10(1 / sd_A))"
   ]
  },
  {
   "cell_type": "code",
   "execution_count": null,
   "id": "a1f4d942-d0c2-47ca-8f5b-6727ff50bf34",
   "metadata": {},
   "outputs": [],
   "source": [
    "teacher, _ = create_ssm(teacher_state_dim, length, 0, 1, 1, 0, mlp_dim=teacher_mlp_dim, depth=teacher_depth)\n",
    "A = np.zeros((teacher_state_dim, teacher_state_dim))\n",
    "B = np.zeros((1, teacher_state_dim))\n",
    "C = np.zeros((teacher_state_dim, 1))\n",
    "D_in = np.ones((1, teacher_mlp_dim))\n",
    "D_hidden = np.eye(teacher_mlp_dim)\n",
    "D_out = np.zeros((teacher_mlp_dim, 1))\n",
    "A[0, 0] = 1\n",
    "B[0, 0] = 1\n",
    "C[0, 0] = 1\n",
    "D_out[:, :] = 0.5\n",
    "set_ssm_weights(teacher,[A, B, C, [D_in] + [D_hidden for i in range(teacher_depth-1)] + [D_out]])\n",
    "ext_teacher, _ = create_ssm(teacher_state_dim, ext_length, 0, 1, 1, 0, mlp_dim=teacher_mlp_dim, depth=teacher_depth)\n",
    "set_ssm_weights(ext_teacher, get_ssm_weights(teacher))"
   ]
  },
  {
   "cell_type": "markdown",
   "id": "3cc099d2-9c2f-4311-aa7f-302e8a0237da",
   "metadata": {
    "jp-MarkdownHeadingCollapsed": true
   },
   "source": [
    "## 20 baseline inputs, 0 special inputs"
   ]
  },
  {
   "cell_type": "code",
   "execution_count": null,
   "id": "8e7eac29-4069-443d-8c10-a1ab486982ea",
   "metadata": {},
   "outputs": [],
   "source": [
    "base_lr = 0.01\n",
    "baseline_input = np.zeros((n_baseline, length, 1))\n",
    "baseline_input[:, 0:2, :] = 1\n",
    "train_losses, ext_losses = [], []"
   ]
  },
  {
   "cell_type": "code",
   "execution_count": null,
   "id": "49425aaf-c32a-4063-8374-c6b23d341463",
   "metadata": {},
   "outputs": [],
   "source": [
    "for seed in seeds:\n",
    "    train_inputs = generate_inputs(1, sd_baseline, sd_special, seed=seed, baseline_input=baseline_input)\n",
    "    train_outputs = teacher(train_inputs)\n",
    "    np.random.seed(seed+12)\n",
    "    ext_inputs = np.random.normal(0, sd_test, (n_test, ext_length, 1))\n",
    "    ext_outputs = ext_teacher(ext_inputs)\n",
    "    train_loss, ext_loss = train(train_inputs, train_outputs, ext_inputs, ext_outputs, student_state_dim, seed, sd_A, \n",
    "                                 sd_B_C, base_lr, epochs, eps, diff, warm_init=warm_init, adaptive=adaptive, \n",
    "                                 mlp_dim=student_mlp_dim, depth=student_depth, sd_D=sd_D, log_period=log_period, \n",
    "                                 print_period=print_period, epochs_after_opt=epochs_after_opt, exper_type=exper_type)\n",
    "    train_losses.append(train_loss)\n",
    "    ext_losses.append(ext_loss)\n",
    "print(\"-------------------------------------------------------------------------\")\n",
    "print(\"-------------------------------------------------------------------------\")\n",
    "print(f'Average train loss: {np.mean(train_losses)}')\n",
    "print(f'Average ext. loss: {np.mean(ext_losses)}')"
   ]
  },
  {
   "cell_type": "markdown",
   "id": "3228c7e0-5e50-4a00-a1a4-98b2ceb90a65",
   "metadata": {
    "jp-MarkdownHeadingCollapsed": true
   },
   "source": [
    "## 20 baseline inputs, 20 special inputs"
   ]
  },
  {
   "cell_type": "code",
   "execution_count": null,
   "id": "d144383e-8ad8-4905-89e7-e20ad6db7a9a",
   "metadata": {},
   "outputs": [],
   "source": [
    "base_lr = 0.01\n",
    "baseline_input = np.zeros((n_baseline, length, 1))\n",
    "baseline_input[:, 0:2, :] = 1\n",
    "special_input = np.zeros((n_special, length, 1))\n",
    "special_input[:, length-2:length-1, :] = 1\n",
    "train_losses, ext_losses = [], []"
   ]
  },
  {
   "cell_type": "code",
   "execution_count": null,
   "id": "f04f1e40-ce72-43f4-9825-bc7735fba780",
   "metadata": {},
   "outputs": [],
   "source": [
    "for seed in seeds:\n",
    "    train_inputs = generate_inputs(1, sd_baseline, sd_special, seed=seed, baseline_input=baseline_input, \n",
    "                                   special_input=special_input)\n",
    "    train_outputs = teacher(train_inputs)\n",
    "    np.random.seed(seed+12)\n",
    "    ext_inputs = np.random.normal(0, sd_test, (n_test, ext_length, 1))\n",
    "    ext_outputs = ext_teacher(ext_inputs)\n",
    "    train_loss, ext_loss = train(train_inputs, train_outputs, ext_inputs, ext_outputs, student_state_dim, seed, sd_A, \n",
    "                                 sd_B_C, base_lr, epochs, eps, diff, warm_init=warm_init, adaptive=adaptive, \n",
    "                                 mlp_dim=student_mlp_dim, depth=student_depth, sd_D=sd_D, log_period=log_period, \n",
    "                                 print_period=print_period, epochs_after_opt=epochs_after_opt, exper_type=exper_type)\n",
    "    train_losses.append(train_loss)\n",
    "    ext_losses.append(ext_loss)\n",
    "print(\"-------------------------------------------------------------------------\")\n",
    "print(\"-------------------------------------------------------------------------\")\n",
    "print(f'Average train loss: {np.mean(train_losses)}')\n",
    "print(f'Average ext. loss: {np.mean(ext_losses)}')"
   ]
  },
  {
   "cell_type": "markdown",
   "id": "f4fcaa71-71d8-4491-b132-e51f77fbf06d",
   "metadata": {
    "jp-MarkdownHeadingCollapsed": true
   },
   "source": [
    "# Length = 10, teacher state dim = 1, student state dim = 20"
   ]
  },
  {
   "cell_type": "markdown",
   "id": "83666529-95a1-4627-8091-d2c7872938c3",
   "metadata": {
    "jp-MarkdownHeadingCollapsed": true
   },
   "source": [
    "## Shared setup"
   ]
  },
  {
   "cell_type": "code",
   "execution_count": null,
   "id": "cbb8cbf8-e4cc-4529-9d62-547b2aa941de",
   "metadata": {},
   "outputs": [],
   "source": [
    "seeds = [4540+i for i in [0, 3, 4, 5]]\n",
    "teacher_state_dim = 1\n",
    "teacher_mlp_dim = 25\n",
    "teacher_depth = 2\n",
    "student_state_dim = 20\n",
    "student_mlp_dim = 25\n",
    "student_depth = 2\n",
    "sd_A = 0.001\n",
    "sd_B_C = 0.001\n",
    "sd_D = 0.1\n",
    "length = 10\n",
    "ext_length = 40\n",
    "n_baseline = 20\n",
    "n_special = 20\n",
    "n_test = 2000\n",
    "eps = 0.05\n",
    "diff = 0.05 / np.exp(2 * np.log10(1 / sd_A))"
   ]
  },
  {
   "cell_type": "code",
   "execution_count": null,
   "id": "90ecd23a-fcaa-48aa-9457-b4fae7499387",
   "metadata": {},
   "outputs": [],
   "source": [
    "teacher, _ = create_ssm(teacher_state_dim, length, 0, 1, 1, 0, mlp_dim=teacher_mlp_dim, depth=teacher_depth)\n",
    "A = np.zeros((teacher_state_dim, teacher_state_dim))\n",
    "B = np.zeros((1, teacher_state_dim))\n",
    "C = np.zeros((teacher_state_dim, 1))\n",
    "D_in = np.ones((1, teacher_mlp_dim))\n",
    "D_hidden = np.eye(teacher_mlp_dim)\n",
    "D_out = np.zeros((teacher_mlp_dim, 1))\n",
    "A[0, 0] = 1\n",
    "B[0, 0] = 1\n",
    "C[0, 0] = 1\n",
    "D_out[:, :] = 0.5\n",
    "set_ssm_weights(teacher,[A, B, C, [D_in] + [D_hidden for i in range(teacher_depth-1)] + [D_out]])\n",
    "ext_teacher, _ = create_ssm(teacher_state_dim, ext_length, 0, 1, 1, 0, mlp_dim=teacher_mlp_dim, depth=teacher_depth)\n",
    "set_ssm_weights(ext_teacher, get_ssm_weights(teacher))"
   ]
  },
  {
   "cell_type": "markdown",
   "id": "c909ff60-c97e-4353-a94d-2ef22f65fa72",
   "metadata": {
    "jp-MarkdownHeadingCollapsed": true
   },
   "source": [
    "## 20 baseline inputs, 0 special inputs"
   ]
  },
  {
   "cell_type": "code",
   "execution_count": null,
   "id": "348a144b-abee-4784-a614-755add93bd57",
   "metadata": {},
   "outputs": [],
   "source": [
    "base_lr = 0.01\n",
    "baseline_input = np.zeros((n_baseline, length, 1))\n",
    "baseline_input[:, 0:length-3, :] = 1\n",
    "train_losses, ext_losses = [], []"
   ]
  },
  {
   "cell_type": "code",
   "execution_count": null,
   "id": "c75abdfd-64fc-4fba-b7a6-b0daa1053c86",
   "metadata": {},
   "outputs": [],
   "source": [
    "for seed in seeds:\n",
    "    train_inputs = generate_inputs(1, sd_baseline, sd_special, seed=seed, baseline_input=baseline_input)\n",
    "    train_outputs = teacher(train_inputs)\n",
    "    np.random.seed(seed+12)\n",
    "    ext_inputs = np.random.normal(0, sd_test, (n_test, ext_length, 1))\n",
    "    ext_outputs = ext_teacher(ext_inputs)\n",
    "    train_loss, ext_loss = train(train_inputs, train_outputs, ext_inputs, ext_outputs, student_state_dim, seed, sd_A, \n",
    "                                 sd_B_C, base_lr, epochs, eps, diff, warm_init=warm_init, adaptive=adaptive, \n",
    "                                 mlp_dim=student_mlp_dim, depth=student_depth, sd_D=sd_D, log_period=log_period, \n",
    "                                 print_period=print_period, epochs_after_opt=epochs_after_opt, exper_type=exper_type)\n",
    "    train_losses.append(train_loss)\n",
    "    ext_losses.append(ext_loss)\n",
    "print(\"-------------------------------------------------------------------------\")\n",
    "print(\"-------------------------------------------------------------------------\")\n",
    "print(f'Average train loss: {np.mean(train_losses)}')\n",
    "print(f'Average ext. loss: {np.mean(ext_losses)}')"
   ]
  },
  {
   "cell_type": "markdown",
   "id": "cb33f16d-4325-467f-8952-16af9f10f800",
   "metadata": {
    "jp-MarkdownHeadingCollapsed": true
   },
   "source": [
    "## 20 baseline inputs, 20 special inputs"
   ]
  },
  {
   "cell_type": "code",
   "execution_count": null,
   "id": "ba0bc075-29eb-4fb1-886c-b0dab4aadd18",
   "metadata": {},
   "outputs": [],
   "source": [
    "base_lr = 0.00005\n",
    "baseline_input = np.zeros((n_baseline, length, 1))\n",
    "baseline_input[:, 0:length-3, :] = 1\n",
    "special_input = np.zeros((n_special, length, 1))\n",
    "special_input[:, length-2:length-1, :] = 1\n",
    "train_losses, ext_losses = [], []"
   ]
  },
  {
   "cell_type": "code",
   "execution_count": null,
   "id": "4588403f-fa8f-4d52-93da-a39673b00a68",
   "metadata": {},
   "outputs": [],
   "source": [
    "for seed in seeds:\n",
    "    train_inputs = generate_inputs(1, sd_baseline, sd_special, seed=seed, baseline_input=baseline_input, \n",
    "                                   special_input=special_input)\n",
    "    train_outputs = teacher(train_inputs)\n",
    "    np.random.seed(seed+12)\n",
    "    ext_inputs = np.random.normal(0, sd_test, (n_test, ext_length, 1))\n",
    "    ext_outputs = ext_teacher(ext_inputs)\n",
    "    train_loss, ext_loss = train(train_inputs, train_outputs, ext_inputs, ext_outputs, student_state_dim, seed, sd_A, \n",
    "                                 sd_B_C, base_lr, epochs, eps, diff, warm_init=warm_init, adaptive=adaptive, \n",
    "                                 mlp_dim=student_mlp_dim, depth=student_depth, sd_D=sd_D, log_period=log_period, \n",
    "                                 print_period=print_period, epochs_after_opt=epochs_after_opt, exper_type=exper_type)\n",
    "    train_losses.append(train_loss)\n",
    "    ext_losses.append(ext_loss)\n",
    "print(\"-------------------------------------------------------------------------\")\n",
    "print(\"-------------------------------------------------------------------------\")\n",
    "print(f'Average train loss: {np.mean(train_losses)}')\n",
    "print(f'Average ext. loss: {np.mean(ext_losses)}')"
   ]
  },
  {
   "cell_type": "code",
   "execution_count": null,
   "id": "7ab4a12d-0e40-4704-bd5a-4daa7a8e3d02",
   "metadata": {},
   "outputs": [],
   "source": []
  }
 ],
 "metadata": {
  "kernelspec": {
   "display_name": "Python 3 (ipykernel)",
   "language": "python",
   "name": "python3"
  },
  "language_info": {
   "codemirror_mode": {
    "name": "ipython",
    "version": 3
   },
   "file_extension": ".py",
   "mimetype": "text/x-python",
   "name": "python",
   "nbconvert_exporter": "python",
   "pygments_lexer": "ipython3",
   "version": "3.9.18"
  }
 },
 "nbformat": 4,
 "nbformat_minor": 5
}
